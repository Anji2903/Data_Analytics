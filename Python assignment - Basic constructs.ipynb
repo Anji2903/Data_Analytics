{
 "cells": [
  {
   "cell_type": "markdown",
   "id": "4391bff7",
   "metadata": {},
   "source": [
    "# Q1. Using Python script as a calculator\n",
    "Create the variables n, r, p and assign them values 10, 5, and 100 respectively. Then\n",
    "evaluate the following expression in the Python console.\n",
    "𝐴 = 𝑝 (1 + 𝑟/ 100)n\n",
    "a. 100\n",
    "b. 162.89 (Correct Answer)\n",
    "c. 189\n",
    "d. None of the above\n",
    "\n",
    "# Ans. B"
   ]
  },
  {
   "cell_type": "code",
   "execution_count": 2,
   "id": "0923d5c2",
   "metadata": {},
   "outputs": [],
   "source": [
    "n=10\n",
    "r=5\n",
    "p=100"
   ]
  },
  {
   "cell_type": "code",
   "execution_count": 6,
   "id": "9229dfb4",
   "metadata": {},
   "outputs": [
    {
     "name": "stdout",
     "output_type": "stream",
     "text": [
      "162.8894626777442\n"
     ]
    }
   ],
   "source": [
    "A=p*(1+5/100)**n\n",
    "print(A)"
   ]
  },
  {
   "cell_type": "markdown",
   "id": "f2d35885",
   "metadata": {},
   "source": [
    "# Q2. In a given string format operation, how will you print the given string.\n",
    "A = 10\n",
    "B = 20\n",
    "Str = \"There are {} students in the class, with {} who play at least one sport.\"\n",
    "a. print(string.format(a,b))\n",
    "b. print(string+a+b)\n",
    "c. print(string.format(b,a))\n",
    "d. None of the above\n",
    "\n",
    "\n",
    "# Ans : D . None of the above as correct answer would be  print(str.format(B,A))"
   ]
  },
  {
   "cell_type": "code",
   "execution_count": 2,
   "id": "a83abc70",
   "metadata": {},
   "outputs": [],
   "source": [
    "A=10\n",
    "B=20\n",
    "str=\"There are {} students in the class, with {} who play at least one sport.\""
   ]
  },
  {
   "cell_type": "code",
   "execution_count": 6,
   "id": "fa3781bb",
   "metadata": {},
   "outputs": [
    {
     "name": "stdout",
     "output_type": "stream",
     "text": [
      "There are 20 students in the class, with 10 who play at least one sport.\n"
     ]
    }
   ],
   "source": [
    "print(str.format(B,A))"
   ]
  },
  {
   "cell_type": "markdown",
   "id": "64f465a4",
   "metadata": {},
   "source": [
    "# Q3.. In a given sample string, How do you print a double quoted string in between a\n",
    "regular\n",
    "string using the escape character?\n",
    "Sample output = It goes without saying, “Time is Money”, and none can deny it.\n",
    "a. print(“It goes without saying, \\“Time is Money\\”, and none can deny it.”)\n",
    "b. print(“It goes without saying, \\Time is Money\\, and none can deny it.”)\n",
    "c. print(“It goes without saying” + “Time is Money” + “and none can deny it.”)\n",
    "d. None of the above.\n",
    "\n",
    "# Answer : A"
   ]
  },
  {
   "cell_type": "code",
   "execution_count": 11,
   "id": "cd414363",
   "metadata": {},
   "outputs": [
    {
     "name": "stdout",
     "output_type": "stream",
     "text": [
      "It goes without saying, \"Time is Money\", and none can deny it.\n"
     ]
    }
   ],
   "source": [
    "print(\"It goes without saying, \\\"Time is Money\\\", and none can deny it.\")"
   ]
  },
  {
   "cell_type": "markdown",
   "id": "8e4fbf24",
   "metadata": {},
   "source": [
    "# Q4. What will be the output of the following code?\n",
    "x = lambda a,b: a//b\n",
    "x(10,3)\n",
    "a. 3.3333333333\n",
    "b. 3\n",
    "c. 30\n",
    "d. 1000\n",
    "\n",
    "# Ans : B"
   ]
  },
  {
   "cell_type": "code",
   "execution_count": 16,
   "id": "e7264546",
   "metadata": {},
   "outputs": [],
   "source": [
    "x=lambda a,b: a//b"
   ]
  },
  {
   "cell_type": "code",
   "execution_count": 17,
   "id": "fd1d3200",
   "metadata": {},
   "outputs": [
    {
     "data": {
      "text/plain": [
       "3"
      ]
     },
     "execution_count": 17,
     "metadata": {},
     "output_type": "execute_result"
    }
   ],
   "source": [
    "x(10,3)"
   ]
  },
  {
   "cell_type": "markdown",
   "id": "15ee159d",
   "metadata": {},
   "source": [
    "# Q5. What will be the output of the following code?\n",
    "A = 10\n",
    "B = 12\n",
    "print(\"Smaller\") if A == B else print(\"Greater\") if A < B else print(\"True\")\n",
    "a. True\n",
    "b. Smaller\n",
    "c. Greater\n",
    "d. None of the above\n",
    "\n",
    "# Ans : C"
   ]
  },
  {
   "cell_type": "code",
   "execution_count": 50,
   "id": "e8f279c7",
   "metadata": {},
   "outputs": [],
   "source": [
    "A=10\n",
    "B=12"
   ]
  },
  {
   "cell_type": "code",
   "execution_count": 51,
   "id": "b9aca4ad",
   "metadata": {},
   "outputs": [
    {
     "name": "stdout",
     "output_type": "stream",
     "text": [
      "Greater\n"
     ]
    }
   ],
   "source": [
    "print(\"Smaller\") if A == B else print(\"Greater\") if A < B else print(\"True\")\n"
   ]
  },
  {
   "attachments": {},
   "cell_type": "markdown",
   "id": "0c5e51aa",
   "metadata": {},
   "source": [
    "# Q6. What will be the output of the following code?\n",
    "a. [2 7 3 5 4 6]\n",
    "b. TypeError\n",
    "c. NameError: name 'numpy' is not defined\n",
    "d. None of the above\n",
    "\n",
    "# Ans. C-- Getting name error 'numpy' is not defined"
   ]
  },
  {
   "cell_type": "code",
   "execution_count": 3,
   "id": "2247b0d1",
   "metadata": {},
   "outputs": [
    {
     "name": "stdout",
     "output_type": "stream",
     "text": [
      "[2, 7, 3, 5, 4, 6]\n"
     ]
    },
    {
     "ename": "NameError",
     "evalue": "name 'numpy' is not defined",
     "output_type": "error",
     "traceback": [
      "\u001b[1;31m---------------------------------------------------------------------------\u001b[0m",
      "\u001b[1;31mNameError\u001b[0m                                 Traceback (most recent call last)",
      "Cell \u001b[1;32mIn[3], line 5\u001b[0m\n\u001b[0;32m      3\u001b[0m my_list1 \u001b[38;5;241m=\u001b[39m [\u001b[38;5;241m2\u001b[39m,\u001b[38;5;241m7\u001b[39m,\u001b[38;5;241m3\u001b[39m,\u001b[38;5;241m5\u001b[39m,\u001b[38;5;241m4\u001b[39m,\u001b[38;5;241m6\u001b[39m]\n\u001b[0;32m      4\u001b[0m \u001b[38;5;28mprint\u001b[39m(my_list1)\n\u001b[1;32m----> 5\u001b[0m arr_1 \u001b[38;5;241m=\u001b[39m numpy\u001b[38;5;241m.\u001b[39marray(my_list,dtype \u001b[38;5;241m=\u001b[39m \u001b[38;5;28mint\u001b[39m)\n\u001b[0;32m      6\u001b[0m \u001b[38;5;28mprint\u001b[39m(arr_1)\n",
      "\u001b[1;31mNameError\u001b[0m: name 'numpy' is not defined"
     ]
    }
   ],
   "source": [
    "import os\n",
    "import numpy as np\n",
    "my_list1 = [2,7,3,5,4,6]\n",
    "print(my_list1)\n",
    "arr_1 = numpy.array(my_list,dtype = int)\n",
    "print(arr_1)"
   ]
  },
  {
   "cell_type": "markdown",
   "id": "316671bb",
   "metadata": {},
   "source": [
    "# Q.7 Create a string called ‘string’ with the value as “Machine Learning”. Which code(s)\n",
    "is/are appropriate to slice the substring “Learn”?\n",
    "a. string[slice(13,8,1)]\n",
    "b. string[slice(1,8,1)]\n",
    "c. string[8:14]\n",
    "d. string[slice(8,13,1)]\n",
    "\n",
    "# Ans. D"
   ]
  },
  {
   "cell_type": "code",
   "execution_count": 4,
   "id": "f0dfb8e0",
   "metadata": {},
   "outputs": [],
   "source": [
    "string='Machine Learning'"
   ]
  },
  {
   "cell_type": "code",
   "execution_count": 11,
   "id": "d1eb4b37",
   "metadata": {},
   "outputs": [
    {
     "data": {
      "text/plain": [
       "'Learn'"
      ]
     },
     "execution_count": 11,
     "metadata": {},
     "output_type": "execute_result"
    }
   ],
   "source": [
    "string[slice(8,13,1)]"
   ]
  },
  {
   "cell_type": "markdown",
   "id": "d5f4b5ec",
   "metadata": {},
   "source": [
    "# Q8. Create a sequence of numbers from 10 to 25 and increment by 4. What is the index of the value 18?\n",
    "a. 3\n",
    "b. 2\n",
    "c. 0\n",
    "d. 1\n",
    "\n",
    "# Ans. B"
   ]
  },
  {
   "cell_type": "code",
   "execution_count": 12,
   "id": "57ba69fe",
   "metadata": {},
   "outputs": [],
   "source": [
    "start = 10\n",
    "end = 25\n",
    "increment = 4"
   ]
  },
  {
   "cell_type": "code",
   "execution_count": 17,
   "id": "be022268",
   "metadata": {},
   "outputs": [
    {
     "name": "stdout",
     "output_type": "stream",
     "text": [
      "2\n"
     ]
    }
   ],
   "source": [
    "sequence = [num for num in range(start, end+1, increment)]\n",
    "value_to_find = 18\n",
    "index = sequence.index(value_to_find)\n",
    "print(index)"
   ]
  },
  {
   "cell_type": "markdown",
   "id": "28a309be",
   "metadata": {},
   "source": [
    "# Q9. Which of the following is true with respect to the below codes?\n",
    "a. num1 = num2\n",
    "b. num1 ≠ num2\n",
    "c. num1 < num2\n",
    "d. num1 > num2\n",
    "\n",
    "# Ans. A"
   ]
  },
  {
   "cell_type": "code",
   "execution_count": 18,
   "id": "f65023fe",
   "metadata": {},
   "outputs": [
    {
     "name": "stdout",
     "output_type": "stream",
     "text": [
      "625 625\n"
     ]
    }
   ],
   "source": [
    "num1 = 5**4\n",
    "num2 = pow(5,4)\n",
    "print(num1,num2)"
   ]
  },
  {
   "cell_type": "markdown",
   "id": "dbad00e5",
   "metadata": {},
   "source": [
    "# Q10. A Python NameError exception is raised when: -\n",
    "a. Trying to access a variable which has not been defined\n",
    "b. Trying to access a key in a dictionary that does not exist\n",
    "c. Accessing a column with misspelled column name\n",
    "d. Accessing the function from a module that has not been imported\n",
    "# Ans. A\n"
   ]
  },
  {
   "cell_type": "markdown",
   "id": "da639bdc",
   "metadata": {},
   "source": [
    "# Q11. What type of exception will be raised for the code given below?\n",
    "a. NameError\n",
    "b. KeyError\n",
    "c. ValueError\n",
    "d. AttributeError\n",
    "\n",
    "# Ans. C"
   ]
  },
  {
   "cell_type": "code",
   "execution_count": 20,
   "id": "ecba70f8",
   "metadata": {},
   "outputs": [
    {
     "ename": "ValueError",
     "evalue": "invalid literal for int() with base 10: 'string'",
     "output_type": "error",
     "traceback": [
      "\u001b[1;31m---------------------------------------------------------------------------\u001b[0m",
      "\u001b[1;31mValueError\u001b[0m                                Traceback (most recent call last)",
      "Cell \u001b[1;32mIn[20], line 2\u001b[0m\n\u001b[0;32m      1\u001b[0m x \u001b[38;5;241m=\u001b[39m \u001b[38;5;124m'\u001b[39m\u001b[38;5;124mstring\u001b[39m\u001b[38;5;124m'\u001b[39m\n\u001b[1;32m----> 2\u001b[0m \u001b[38;5;28mint\u001b[39m(x)\n",
      "\u001b[1;31mValueError\u001b[0m: invalid literal for int() with base 10: 'string'"
     ]
    }
   ],
   "source": [
    "x = 'string'\n",
    "int(x)"
   ]
  },
  {
   "cell_type": "markdown",
   "id": "0b7a0695",
   "metadata": {},
   "source": [
    "# Q12.A FileNotFoundError exception is raised by operating system errors when: -\n",
    "a. Trying to create a file or directory which already exists\n",
    "b. A file or directory is requested but does not exist in the working directory\n",
    "c. Trying to run an operation without the adequate access rights\n",
    "d. A directory operation, os.listdir() is requested on something which is not a directory\n",
    "\n",
    "# Ans. B"
   ]
  },
  {
   "cell_type": "markdown",
   "id": "e9d4a134",
   "metadata": {},
   "source": [
    "# Q13.Consider a variable Z. The value of Z is \"ID-5632\". Data type of Z is: -\n",
    "a. Complex\n",
    "b. Character\n",
    "c. Integer\n",
    "d. Boolean\n",
    "\n",
    "# Ans. B"
   ]
  },
  {
   "cell_type": "code",
   "execution_count": 26,
   "id": "ca6f5b8d",
   "metadata": {},
   "outputs": [],
   "source": [
    "Z = \"ID-5632\""
   ]
  },
  {
   "cell_type": "code",
   "execution_count": 27,
   "id": "27367f5a",
   "metadata": {},
   "outputs": [
    {
     "data": {
      "text/plain": [
       "str"
      ]
     },
     "execution_count": 27,
     "metadata": {},
     "output_type": "execute_result"
    }
   ],
   "source": [
    "type(Z)"
   ]
  },
  {
   "cell_type": "markdown",
   "id": "882ca818",
   "metadata": {},
   "source": [
    "# Q14.Which of the following variable(s) are character data type?\n",
    "a. K= “4”\n",
    "b. J= “Welcome”\n",
    "c. L= “?”\n",
    "d. All of the above\n",
    "\n",
    "# Ans. D"
   ]
  },
  {
   "cell_type": "code",
   "execution_count": 30,
   "id": "d9b95a6f",
   "metadata": {},
   "outputs": [
    {
     "name": "stdout",
     "output_type": "stream",
     "text": [
      "Data type of K: <class 'str'>\n",
      "Data type of J: <class 'str'>\n",
      "Data type of L: <class 'str'>\n"
     ]
    }
   ],
   "source": [
    "K = \"4\"\n",
    "J = \"Welcome\"\n",
    "L = \"?\"\n",
    "\n",
    "print(f\"Data type of K: {type(K)}\")\n",
    "print(f\"Data type of J: {type(J)}\")\n",
    "print(f\"Data type of L: {type(L)}\")\n"
   ]
  },
  {
   "cell_type": "markdown",
   "id": "2342fd5e",
   "metadata": {},
   "source": [
    "# Q15. Choose the symbol/s that does not have the ability to convert any values to string?\n",
    "a. ( )\n",
    "b. “ ”\n",
    "c. {}\n",
    "d. #\n",
    "\n",
    "# Ans. D "
   ]
  },
  {
   "cell_type": "markdown",
   "id": "35156935",
   "metadata": {},
   "source": [
    "# Q16. Create a dictionary ‘Country’ that maps the following countries to their capitals respectively: \n",
    "Country India China Japan Qatar France\n",
    "State Delhi Beijing Tokyo Doha Marseilles\n",
    "Find 2 commands to replace “Marseilles” with “Paris” is:"
   ]
  },
  {
   "cell_type": "code",
   "execution_count": 34,
   "id": "0e635506",
   "metadata": {},
   "outputs": [],
   "source": [
    "Country = {\"India\": \"Delhi\", \"China\": \"Beijing\", \"Japan\": \"Tokyo\", \"Qatar\": \"Doha\", \"France\": \"Marseilles\"}"
   ]
  },
  {
   "cell_type": "code",
   "execution_count": 37,
   "id": "90b2b269",
   "metadata": {},
   "outputs": [
    {
     "name": "stdout",
     "output_type": "stream",
     "text": [
      "{'India': 'Delhi', 'China': 'Beijing', 'Japan': 'Tokyo', 'Qatar': 'Doha', 'France': 'Paris'}\n"
     ]
    }
   ],
   "source": [
    "Country.update({\"France\": \"Paris\"})\n",
    "print(Country)"
   ]
  },
  {
   "cell_type": "code",
   "execution_count": 38,
   "id": "0b9d7986",
   "metadata": {},
   "outputs": [],
   "source": [
    "Country[\"France\"]=\"Paris\""
   ]
  },
  {
   "cell_type": "code",
   "execution_count": 39,
   "id": "288fac40",
   "metadata": {},
   "outputs": [
    {
     "name": "stdout",
     "output_type": "stream",
     "text": [
      "{'India': 'Delhi', 'China': 'Beijing', 'Japan': 'Tokyo', 'Qatar': 'Doha', 'France': 'Paris'}\n"
     ]
    }
   ],
   "source": [
    "print(Country)"
   ]
  },
  {
   "cell_type": "markdown",
   "id": "9d08a0e3",
   "metadata": {},
   "source": [
    "# Q17. Create the tuples given below\n",
    "tuple_1 = (1,5,6,7,8)\n",
    "tuple_2 = (8,9,4)\n",
    "Identify which of the following code does not work on a tuple.\n",
    "a. sum(tuple_1)\n",
    "b. len(tuple_2)\n",
    "c. tuple_2 + tuple_1\n",
    "d. tuple_1[3] = 45\n",
    "\n",
    "# Ans . D\n"
   ]
  },
  {
   "cell_type": "code",
   "execution_count": 40,
   "id": "03e4df15",
   "metadata": {},
   "outputs": [],
   "source": [
    "tuple_1 = (1,5,6,7,8)\n",
    "tuple_2 = (8,9,4)"
   ]
  },
  {
   "cell_type": "code",
   "execution_count": 44,
   "id": "971b6c8d",
   "metadata": {},
   "outputs": [
    {
     "ename": "TypeError",
     "evalue": "'tuple' object does not support item assignment",
     "output_type": "error",
     "traceback": [
      "\u001b[1;31m---------------------------------------------------------------------------\u001b[0m",
      "\u001b[1;31mTypeError\u001b[0m                                 Traceback (most recent call last)",
      "Cell \u001b[1;32mIn[44], line 1\u001b[0m\n\u001b[1;32m----> 1\u001b[0m tuple_1[\u001b[38;5;241m3\u001b[39m] \u001b[38;5;241m=\u001b[39m \u001b[38;5;241m45\u001b[39m\n",
      "\u001b[1;31mTypeError\u001b[0m: 'tuple' object does not support item assignment"
     ]
    }
   ],
   "source": [
    "tuple_1[3] = 45"
   ]
  },
  {
   "cell_type": "markdown",
   "id": "5e4eb374",
   "metadata": {},
   "source": [
    "# Q18. How many elements in the following data structure?\n",
    "\n",
    "# Ans. 6"
   ]
  },
  {
   "cell_type": "code",
   "execution_count": 45,
   "id": "eaf9050e",
   "metadata": {},
   "outputs": [],
   "source": [
    "S={1,2,3,4,4,4,5,6}"
   ]
  },
  {
   "cell_type": "code",
   "execution_count": 47,
   "id": "c6b02280",
   "metadata": {},
   "outputs": [
    {
     "data": {
      "text/plain": [
       "6"
      ]
     },
     "execution_count": 47,
     "metadata": {},
     "output_type": "execute_result"
    }
   ],
   "source": [
    "len(S)"
   ]
  },
  {
   "cell_type": "markdown",
   "id": "99819a62",
   "metadata": {},
   "source": [
    "# Q19. Write a function which finds all pythagorean triplets of triangles whose sides are no greater than a natural number N."
   ]
  },
  {
   "cell_type": "code",
   "execution_count": 48,
   "id": "ae3228fd",
   "metadata": {},
   "outputs": [
    {
     "name": "stdout",
     "output_type": "stream",
     "text": [
      "(3, 4, 5)\n",
      "(5, 12, 13)\n",
      "(6, 8, 10)\n",
      "(8, 15, 17)\n",
      "(9, 12, 15)\n",
      "(12, 16, 20)\n"
     ]
    }
   ],
   "source": [
    "def find_pythagorean_triplets(N):\n",
    "    triplets = []\n",
    "    for a in range(1, N + 1):\n",
    "        for b in range(a, N + 1):\n",
    "            c_squared = a**2 + b**2\n",
    "            c = int(c_squared**0.5)\n",
    "            if c <= N and c_squared == c**2:\n",
    "                triplets.append((a, b, c))\n",
    "    return triplets\n",
    "\n",
    "N = 20\n",
    "triplets = find_pythagorean_triplets(N)\n",
    "for triplet in triplets:\n",
    "    print(triplet)\n"
   ]
  },
  {
   "cell_type": "code",
   "execution_count": null,
   "id": "3288270f",
   "metadata": {},
   "outputs": [],
   "source": []
  },
  {
   "cell_type": "code",
   "execution_count": null,
   "id": "3dc26a29",
   "metadata": {},
   "outputs": [],
   "source": []
  },
  {
   "cell_type": "code",
   "execution_count": null,
   "id": "d046505c",
   "metadata": {},
   "outputs": [],
   "source": []
  },
  {
   "cell_type": "code",
   "execution_count": null,
   "id": "f818c98a",
   "metadata": {},
   "outputs": [],
   "source": []
  },
  {
   "cell_type": "code",
   "execution_count": null,
   "id": "d0dc8275",
   "metadata": {},
   "outputs": [],
   "source": []
  },
  {
   "cell_type": "code",
   "execution_count": null,
   "id": "e495b630",
   "metadata": {},
   "outputs": [],
   "source": []
  },
  {
   "cell_type": "code",
   "execution_count": null,
   "id": "c3745d31",
   "metadata": {},
   "outputs": [],
   "source": []
  },
  {
   "cell_type": "code",
   "execution_count": null,
   "id": "b7c718d0",
   "metadata": {},
   "outputs": [],
   "source": []
  },
  {
   "cell_type": "code",
   "execution_count": null,
   "id": "398c86b5",
   "metadata": {},
   "outputs": [],
   "source": []
  },
  {
   "cell_type": "code",
   "execution_count": null,
   "id": "c83fdbde",
   "metadata": {},
   "outputs": [],
   "source": []
  },
  {
   "cell_type": "code",
   "execution_count": null,
   "id": "828d5c79",
   "metadata": {},
   "outputs": [],
   "source": []
  },
  {
   "cell_type": "code",
   "execution_count": null,
   "id": "8fa2f1ff",
   "metadata": {},
   "outputs": [],
   "source": []
  },
  {
   "cell_type": "code",
   "execution_count": null,
   "id": "bb0720a4",
   "metadata": {},
   "outputs": [],
   "source": []
  },
  {
   "cell_type": "code",
   "execution_count": null,
   "id": "6fde056b",
   "metadata": {},
   "outputs": [],
   "source": []
  },
  {
   "cell_type": "code",
   "execution_count": null,
   "id": "7b634a3e",
   "metadata": {},
   "outputs": [],
   "source": []
  },
  {
   "cell_type": "code",
   "execution_count": null,
   "id": "c3d9684b",
   "metadata": {},
   "outputs": [],
   "source": []
  }
 ],
 "metadata": {
  "kernelspec": {
   "display_name": "Python 3 (ipykernel)",
   "language": "python",
   "name": "python3"
  },
  "language_info": {
   "codemirror_mode": {
    "name": "ipython",
    "version": 3
   },
   "file_extension": ".py",
   "mimetype": "text/x-python",
   "name": "python",
   "nbconvert_exporter": "python",
   "pygments_lexer": "ipython3",
   "version": "3.11.4"
  }
 },
 "nbformat": 4,
 "nbformat_minor": 5
}
