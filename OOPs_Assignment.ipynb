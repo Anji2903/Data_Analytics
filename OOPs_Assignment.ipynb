{
 "cells": [
  {
   "cell_type": "markdown",
   "metadata": {
    "id": "xmJT1YTPTEp1"
   },
   "source": [
    "# Q1. Write a Python program to demonstrate multiple inheritance.\n",
    "# 1. Employee class has 3 data members EmployeeID, Gender (String), Salary and PerformanceRating(Out of 5) of type int. It has a get() function to get these details from the user.\n",
    "\n",
    "# 2. JoiningDetail class has a data member DateOfJoining of type Date and a function getDoJ to get the Date of joining of employees.\n",
    "\n",
    "# 3. Information Class uses the marks from Employee class and the DateOfJoining date from the JoiningDetail class to calculate the top 3 Employees based on their Ratings and then Display, using readData, all the details on these employees in Ascending order of their Date Of Joining."
   ]
  },
  {
   "cell_type": "code",
   "execution_count": 1,
   "metadata": {
    "id": "EXfsMlVjgBC-"
   },
   "outputs": [],
   "source": [
    "from datetime import datetime\n",
    "\n",
    "class Employee:\n",
    "    def __init__(self):\n",
    "        self.EmployeeID = 0\n",
    "        self.Gender = \"\"\n",
    "        self.Salary = 0\n",
    "        self.PerformanceRating = 0\n",
    "\n",
    "    def get(self):\n",
    "        self.EmployeeID = int(input(\"Enter Employee ID: \"))\n",
    "        self.Gender = input(\"Enter Gender: \")\n",
    "        self.Salary = int(input(\"Enter Salary: \"))\n",
    "        self.PerformanceRating = int(input(\"Enter Performance Rating (out of 5): \"))\n",
    "\n",
    "\n",
    "class JoiningDetail:\n",
    "    def __init__(self):\n",
    "        self.DateOfJoining = datetime.now()\n",
    "\n",
    "    def getDoJ(self):\n",
    "        date_str = input(\"Enter Date of Joining (YYYY-MM-DD): \")\n",
    "        self.DateOfJoining = datetime.strptime(date_str, \"%Y-%m-%d\")\n",
    "\n",
    "\n",
    "class Information(Employee, JoiningDetail):\n",
    "    def __init__(self):\n",
    "        Employee.__init__(self)\n",
    "        JoiningDetail.__init__(self)\n",
    "        self.info = []\n",
    "\n",
    "    def readData(self):\n",
    "        employees = []\n",
    "        n = int(input(\"Enter the number of employees: \"))\n",
    "\n",
    "        for i in range(n):\n",
    "            emp = Information()\n",
    "            emp.get()\n",
    "            emp.getDoJ()\n",
    "            employees.append(emp)\n",
    "\n",
    "        employees.sort(key=lambda x: x.PerformanceRating, reverse=True)\n",
    "        top_employees = employees[:3]\n",
    "        top_employees.sort(key=lambda x: x.DateOfJoining)\n",
    "\n",
    "        for emp in top_employees:\n",
    "            emp_details = {\n",
    "                \"EmployeeID\": emp.EmployeeID,\n",
    "                \"Gender\": emp.Gender,\n",
    "                \"Salary\": emp.Salary,\n",
    "                \"PerformanceRating\": emp.PerformanceRating,\n",
    "                \"DateOfJoining\": emp.DateOfJoining.strftime(\"%Y-%m-%d\")\n",
    "            }\n",
    "            self.info.append(emp_details)\n",
    "\n",
    "    def display(self):\n",
    "        print(\"Top 3 Employees based on Performance Rating:\")\n",
    "        for emp in self.info:\n",
    "            print(\"Employee ID:\", emp[\"EmployeeID\"])\n",
    "            print(\"Gender:\", emp[\"Gender\"])\n",
    "            print(\"Salary:\", emp[\"Salary\"])\n",
    "            print(\"Performance Rating:\", emp[\"PerformanceRating\"])\n",
    "            print(\"Date of Joining:\", emp[\"DateOfJoining\"])\n",
    "            print(\"------------\")\n",
    "\n",
    "\n"
   ]
  },
  {
   "cell_type": "code",
   "execution_count": null,
   "metadata": {
    "id": "LyxgWqAehSUF"
   },
   "outputs": [],
   "source": []
  },
  {
   "cell_type": "code",
   "execution_count": 6,
   "metadata": {
    "colab": {
     "base_uri": "https://localhost:8080/"
    },
    "id": "sPpZqn9TgBFs",
    "outputId": "dee27af9-cfdd-4182-af50-145e9fb77af3"
   },
   "outputs": [
    {
     "name": "stdout",
     "output_type": "stream",
     "text": [
      "Enter the number of employees: 4\n",
      "Enter Employee ID: 1\n",
      "Enter Gender: M\n",
      "Enter Salary: 25000\n",
      "Enter Performance Rating (out of 5): 4\n",
      "Enter Date of Joining (YYYY-MM-DD): 1998-03-01\n",
      "Enter Employee ID: 2\n",
      "Enter Gender: F\n",
      "Enter Salary: 15000\n",
      "Enter Performance Rating (out of 5): 3\n",
      "Enter Date of Joining (YYYY-MM-DD): 1998-04-01\n",
      "Enter Employee ID: 3\n",
      "Enter Gender: M\n",
      "Enter Salary: 24000\n",
      "Enter Performance Rating (out of 5): 4\n",
      "Enter Date of Joining (YYYY-MM-DD): 1998-05-01\n",
      "Enter Employee ID: 4\n",
      "Enter Gender: F\n",
      "Enter Salary: 27000\n",
      "Enter Performance Rating (out of 5): 5\n",
      "Enter Date of Joining (YYYY-MM-DD): 1998-06-01\n",
      "Top 3 Employees based on Performance Rating:\n",
      "Employee ID: 1\n",
      "Gender: M\n",
      "Salary: 25000\n",
      "Performance Rating: 4\n",
      "Date of Joining: 1998-03-01\n",
      "------------\n",
      "Employee ID: 3\n",
      "Gender: M\n",
      "Salary: 24000\n",
      "Performance Rating: 4\n",
      "Date of Joining: 1998-05-01\n",
      "------------\n",
      "Employee ID: 4\n",
      "Gender: F\n",
      "Salary: 27000\n",
      "Performance Rating: 5\n",
      "Date of Joining: 1998-06-01\n",
      "------------\n"
     ]
    }
   ],
   "source": [
    "\n",
    "info = Information()\n",
    "info.readData()\n",
    "info.display()\n"
   ]
  },
  {
   "cell_type": "markdown",
   "metadata": {
    "id": "4ARAajJrgBH8"
   },
   "source": [
    "# Q.2 Write a Python program to demonstrate Polymorphism.\n",
    "# 1. Class Vehicle with a parameterized function Fare, that takes input value as fare and returns it to calling Objects.\n",
    "# 2. Create five separate variables Bus, Car, Train, Truck and Ship that call the Fare function.\n",
    "# 3. Use a third variable TotalFare to store the sum of fare for each Vehicle Type.\n",
    "# 4. Print the TotalFare."
   ]
  },
  {
   "cell_type": "code",
   "execution_count": 7,
   "metadata": {
    "colab": {
     "base_uri": "https://localhost:8080/"
    },
    "id": "q7EKTCs7gBKT",
    "outputId": "c514ec0e-a2cf-415e-87ee-3d14f569c04a"
   },
   "outputs": [
    {
     "name": "stdout",
     "output_type": "stream",
     "text": [
      "The total fare for all vehicles is: 390\n"
     ]
    }
   ],
   "source": [
    "class Vehicle:\n",
    "    def __init__(self, vehicle_type):\n",
    "        self.vehicle_type = vehicle_type\n",
    "\n",
    "    def Fare(self, fare):\n",
    "        return fare\n",
    "\n",
    "\n",
    "bus = Vehicle(\"Bus\")\n",
    "car = Vehicle(\"Car\")\n",
    "train = Vehicle(\"Train\")\n",
    "truck = Vehicle(\"Truck\")\n",
    "ship = Vehicle(\"Ship\")\n",
    "\n",
    "bus_fare = bus.Fare(50)\n",
    "car_fare = car.Fare(40)\n",
    "train_fare = train.Fare(100)\n",
    "truck_fare = truck.Fare(80)\n",
    "ship_fare = ship.Fare(120)\n",
    "\n",
    "TotalFare = bus_fare + car_fare + train_fare + truck_fare + ship_fare\n",
    "\n",
    "\n",
    "print(f\"The total fare for all vehicles is: {TotalFare}\")\n"
   ]
  },
  {
   "cell_type": "markdown",
   "metadata": {
    "colab": {
     "base_uri": "https://localhost:8080/"
    },
    "id": "e3nn-6ZFgBMt",
    "outputId": "d4affdbe-f6b0-4819-e3de-04ae56c890a5"
   },
   "source": [
    "#     Q3. Consider an ongoing test cricket series. Following are the names of the players and their scores in the test1 and 2.\n",
    "# Test Match 1 :\n",
    "# Dhoni : 56 , Balaji : 94\n",
    "# Test Match 2 :\n",
    "# Balaji : 80 , Dravid : 105 Calculate the highest number of runs scored by an individual cricketer in both of the matches.Create a python function Max_Score (M) that reads a dictionary M that recognizes the player with the highest total score. This function will return ( Top player , Total Score ) . You can consider the Top player as String who is the highest scorer and Top score as Integer . Input : Max_Score({‘test1’:{‘Dhoni’:56, ‘Balaji : 85}, ‘test2’:{‘Dhoni’ 87, ‘Balaji’’:200}}) Output : (‘Balaji ‘ , 200)\n",
    "\n",
    "\n"
   ]
  },
  {
   "cell_type": "code",
   "execution_count": 8,
   "metadata": {},
   "outputs": [
    {
     "name": "stdout",
     "output_type": "stream",
     "text": [
      "Output: ('Balaji', 200)\n"
     ]
    }
   ],
   "source": [
    "def Max_Score(M):\n",
    "    max_score = 0\n",
    "    top_player = \"\"\n",
    "\n",
    "    for test, scores in M.items():\n",
    "        for player, score in scores.items():\n",
    "            if score > max_score:\n",
    "                max_score = score\n",
    "                top_player = player\n",
    "\n",
    "    return (top_player, max_score)\n",
    "\n",
    "# Given input\n",
    "input_scores = {\n",
    "    'test1': {'Dhoni': 56, 'Balaji': 85},\n",
    "    'test2': {'Dhoni': 87, 'Balaji': 200}\n",
    "}\n",
    "\n",
    "# Function call and output display\n",
    "result = Max_Score(input_scores)\n",
    "print(\"Output:\", result)"
   ]
  },
  {
   "cell_type": "markdown",
   "metadata": {
    "id": "79XbzhmXgBO8"
   },
   "source": [
    "# Q4. Create a simple Card game in which there are 8 cards which are randomly chosen from a deck. The first card is shown face up. The game asks the player to predict whether the next card\n",
    "# in the selection will have a higher or lower value than the currently showing card.\n",
    "# For example, say the card that’s shown is a 3. The player chooses “higher,” and the next card is\n",
    "# shown. If that card has a higher value, the player is correct. In this example, if the player had\n",
    "# chosen “lower,” they would have been incorrect. If the player guesses correctly, they get 20\n",
    "# points. If they choose incorrectly, they lose 15 points. If the next card to be turned over has the\n",
    "# same value as the previous card, the player is incorrect."
   ]
  },
  {
   "cell_type": "code",
   "execution_count": 9,
   "metadata": {
    "colab": {
     "base_uri": "https://localhost:8080/",
     "height": 1000
    },
    "id": "_Vckavs2gBRd",
    "outputId": "113f2f06-b01c-42c2-a772-bb0f95db95fa"
   },
   "outputs": [
    {
     "name": "stdout",
     "output_type": "stream",
     "text": [
      "The first card is: 5 of Hearts\n",
      "Will the next card be higher or lower? (Type 'higher' or 'lower'): lower\n",
      "The next card is: 2 of Clubs\n",
      "Correct!\n",
      "Your current points: 20\n",
      "\n",
      "Will the next card be higher or lower? (Type 'higher' or 'lower'): lower\n",
      "The next card is: 8 of Hearts\n",
      "Incorrect.\n",
      "Your current points: 5\n",
      "\n",
      "Will the next card be higher or lower? (Type 'higher' or 'lower'): higher\n",
      "The next card is: 7 of Clubs\n",
      "Incorrect.\n",
      "Your current points: -10\n",
      "\n",
      "Will the next card be higher or lower? (Type 'higher' or 'lower'): higher\n",
      "The next card is: 6 of Clubs\n",
      "Incorrect.\n",
      "Your current points: -25\n",
      "\n",
      "Will the next card be higher or lower? (Type 'higher' or 'lower'): lower\n",
      "The next card is: 3 of Diamonds\n",
      "Correct!\n",
      "Your current points: -5\n",
      "\n",
      "Will the next card be higher or lower? (Type 'higher' or 'lower'): lower\n",
      "The next card is: King of Hearts\n",
      "Incorrect.\n",
      "Your current points: -20\n",
      "\n",
      "Will the next card be higher or lower? (Type 'higher' or 'lower'): higher\n",
      "The next card is: 9 of Spades\n",
      "Incorrect.\n",
      "Your current points: -35\n",
      "\n",
      "Will the next card be higher or lower? (Type 'higher' or 'lower'): lower\n",
      "The next card is: 6 of Diamonds\n",
      "Correct!\n",
      "Your current points: -15\n",
      "\n",
      "Will the next card be higher or lower? (Type 'higher' or 'lower'): lower\n",
      "The next card is: 4 of Clubs\n",
      "Correct!\n",
      "Your current points: 5\n",
      "\n",
      "Will the next card be higher or lower? (Type 'higher' or 'lower'): lower\n",
      "The next card is: 9 of Clubs\n",
      "Incorrect.\n",
      "Your current points: -10\n",
      "\n",
      "Will the next card be higher or lower? (Type 'higher' or 'lower'): lower\n",
      "The next card is: 10 of Clubs\n",
      "Incorrect.\n",
      "Your current points: -25\n",
      "\n"
     ]
    },
    {
     "ename": "KeyboardInterrupt",
     "evalue": "Interrupted by user",
     "output_type": "error",
     "traceback": [
      "\u001b[1;31m---------------------------------------------------------------------------\u001b[0m",
      "\u001b[1;31mKeyboardInterrupt\u001b[0m                         Traceback (most recent call last)",
      "Cell \u001b[1;32mIn[9], line 42\u001b[0m\n\u001b[0;32m     38\u001b[0m         \u001b[38;5;28mprint\u001b[39m(\u001b[38;5;124mf\u001b[39m\u001b[38;5;124m\"\u001b[39m\u001b[38;5;124mYour current points: \u001b[39m\u001b[38;5;132;01m{\u001b[39;00mpoints\u001b[38;5;132;01m}\u001b[39;00m\u001b[38;5;130;01m\\n\u001b[39;00m\u001b[38;5;124m\"\u001b[39m)\n\u001b[0;32m     39\u001b[0m         current_card \u001b[38;5;241m=\u001b[39m next_card\n\u001b[1;32m---> 42\u001b[0m card_game()\n",
      "Cell \u001b[1;32mIn[9], line 20\u001b[0m, in \u001b[0;36mcard_game\u001b[1;34m()\u001b[0m\n\u001b[0;32m     17\u001b[0m ranks \u001b[38;5;241m=\u001b[39m [\u001b[38;5;124m'\u001b[39m\u001b[38;5;124m2\u001b[39m\u001b[38;5;124m'\u001b[39m, \u001b[38;5;124m'\u001b[39m\u001b[38;5;124m3\u001b[39m\u001b[38;5;124m'\u001b[39m, \u001b[38;5;124m'\u001b[39m\u001b[38;5;124m4\u001b[39m\u001b[38;5;124m'\u001b[39m, \u001b[38;5;124m'\u001b[39m\u001b[38;5;124m5\u001b[39m\u001b[38;5;124m'\u001b[39m, \u001b[38;5;124m'\u001b[39m\u001b[38;5;124m6\u001b[39m\u001b[38;5;124m'\u001b[39m, \u001b[38;5;124m'\u001b[39m\u001b[38;5;124m7\u001b[39m\u001b[38;5;124m'\u001b[39m, \u001b[38;5;124m'\u001b[39m\u001b[38;5;124m8\u001b[39m\u001b[38;5;124m'\u001b[39m, \u001b[38;5;124m'\u001b[39m\u001b[38;5;124m9\u001b[39m\u001b[38;5;124m'\u001b[39m, \u001b[38;5;124m'\u001b[39m\u001b[38;5;124m10\u001b[39m\u001b[38;5;124m'\u001b[39m, \u001b[38;5;124m'\u001b[39m\u001b[38;5;124mJack\u001b[39m\u001b[38;5;124m'\u001b[39m, \u001b[38;5;124m'\u001b[39m\u001b[38;5;124mQueen\u001b[39m\u001b[38;5;124m'\u001b[39m, \u001b[38;5;124m'\u001b[39m\u001b[38;5;124mKing\u001b[39m\u001b[38;5;124m'\u001b[39m, \u001b[38;5;124m'\u001b[39m\u001b[38;5;124mAce\u001b[39m\u001b[38;5;124m'\u001b[39m]\n\u001b[0;32m     19\u001b[0m \u001b[38;5;28;01mwhile\u001b[39;00m \u001b[38;5;28mlen\u001b[39m(deck) \u001b[38;5;241m>\u001b[39m \u001b[38;5;241m0\u001b[39m:\n\u001b[1;32m---> 20\u001b[0m     guess \u001b[38;5;241m=\u001b[39m \u001b[38;5;28minput\u001b[39m(\u001b[38;5;124m\"\u001b[39m\u001b[38;5;124mWill the next card be higher or lower? (Type \u001b[39m\u001b[38;5;124m'\u001b[39m\u001b[38;5;124mhigher\u001b[39m\u001b[38;5;124m'\u001b[39m\u001b[38;5;124m or \u001b[39m\u001b[38;5;124m'\u001b[39m\u001b[38;5;124mlower\u001b[39m\u001b[38;5;124m'\u001b[39m\u001b[38;5;124m): \u001b[39m\u001b[38;5;124m\"\u001b[39m)\u001b[38;5;241m.\u001b[39mlower()\n\u001b[0;32m     21\u001b[0m     next_card \u001b[38;5;241m=\u001b[39m deck\u001b[38;5;241m.\u001b[39mpop(\u001b[38;5;241m0\u001b[39m)\n\u001b[0;32m     22\u001b[0m     \u001b[38;5;28mprint\u001b[39m(\u001b[38;5;124mf\u001b[39m\u001b[38;5;124m\"\u001b[39m\u001b[38;5;124mThe next card is: \u001b[39m\u001b[38;5;132;01m{\u001b[39;00mnext_card[\u001b[38;5;241m0\u001b[39m]\u001b[38;5;132;01m}\u001b[39;00m\u001b[38;5;124m of \u001b[39m\u001b[38;5;132;01m{\u001b[39;00mnext_card[\u001b[38;5;241m1\u001b[39m]\u001b[38;5;132;01m}\u001b[39;00m\u001b[38;5;124m\"\u001b[39m)\n",
      "File \u001b[1;32m~\\anaconda3\\Lib\\site-packages\\ipykernel\\kernelbase.py:1175\u001b[0m, in \u001b[0;36mKernel.raw_input\u001b[1;34m(self, prompt)\u001b[0m\n\u001b[0;32m   1171\u001b[0m \u001b[38;5;28;01mif\u001b[39;00m \u001b[38;5;129;01mnot\u001b[39;00m \u001b[38;5;28mself\u001b[39m\u001b[38;5;241m.\u001b[39m_allow_stdin:\n\u001b[0;32m   1172\u001b[0m     \u001b[38;5;28;01mraise\u001b[39;00m StdinNotImplementedError(\n\u001b[0;32m   1173\u001b[0m         \u001b[38;5;124m\"\u001b[39m\u001b[38;5;124mraw_input was called, but this frontend does not support input requests.\u001b[39m\u001b[38;5;124m\"\u001b[39m\n\u001b[0;32m   1174\u001b[0m     )\n\u001b[1;32m-> 1175\u001b[0m \u001b[38;5;28;01mreturn\u001b[39;00m \u001b[38;5;28mself\u001b[39m\u001b[38;5;241m.\u001b[39m_input_request(\n\u001b[0;32m   1176\u001b[0m     \u001b[38;5;28mstr\u001b[39m(prompt),\n\u001b[0;32m   1177\u001b[0m     \u001b[38;5;28mself\u001b[39m\u001b[38;5;241m.\u001b[39m_parent_ident[\u001b[38;5;124m\"\u001b[39m\u001b[38;5;124mshell\u001b[39m\u001b[38;5;124m\"\u001b[39m],\n\u001b[0;32m   1178\u001b[0m     \u001b[38;5;28mself\u001b[39m\u001b[38;5;241m.\u001b[39mget_parent(\u001b[38;5;124m\"\u001b[39m\u001b[38;5;124mshell\u001b[39m\u001b[38;5;124m\"\u001b[39m),\n\u001b[0;32m   1179\u001b[0m     password\u001b[38;5;241m=\u001b[39m\u001b[38;5;28;01mFalse\u001b[39;00m,\n\u001b[0;32m   1180\u001b[0m )\n",
      "File \u001b[1;32m~\\anaconda3\\Lib\\site-packages\\ipykernel\\kernelbase.py:1217\u001b[0m, in \u001b[0;36mKernel._input_request\u001b[1;34m(self, prompt, ident, parent, password)\u001b[0m\n\u001b[0;32m   1214\u001b[0m             \u001b[38;5;28;01mbreak\u001b[39;00m\n\u001b[0;32m   1215\u001b[0m \u001b[38;5;28;01mexcept\u001b[39;00m \u001b[38;5;167;01mKeyboardInterrupt\u001b[39;00m:\n\u001b[0;32m   1216\u001b[0m     \u001b[38;5;66;03m# re-raise KeyboardInterrupt, to truncate traceback\u001b[39;00m\n\u001b[1;32m-> 1217\u001b[0m     \u001b[38;5;28;01mraise\u001b[39;00m \u001b[38;5;167;01mKeyboardInterrupt\u001b[39;00m(\u001b[38;5;124m\"\u001b[39m\u001b[38;5;124mInterrupted by user\u001b[39m\u001b[38;5;124m\"\u001b[39m) \u001b[38;5;28;01mfrom\u001b[39;00m \u001b[38;5;28;01mNone\u001b[39;00m\n\u001b[0;32m   1218\u001b[0m \u001b[38;5;28;01mexcept\u001b[39;00m \u001b[38;5;167;01mException\u001b[39;00m:\n\u001b[0;32m   1219\u001b[0m     \u001b[38;5;28mself\u001b[39m\u001b[38;5;241m.\u001b[39mlog\u001b[38;5;241m.\u001b[39mwarning(\u001b[38;5;124m\"\u001b[39m\u001b[38;5;124mInvalid Message:\u001b[39m\u001b[38;5;124m\"\u001b[39m, exc_info\u001b[38;5;241m=\u001b[39m\u001b[38;5;28;01mTrue\u001b[39;00m)\n",
      "\u001b[1;31mKeyboardInterrupt\u001b[0m: Interrupted by user"
     ]
    }
   ],
   "source": [
    "import random\n",
    "\n",
    "def create_deck():\n",
    "    suits = ['Hearts', 'Diamonds', 'Clubs', 'Spades']\n",
    "    ranks = ['2', '3', '4', '5', '6', '7', '8', '9', '10', 'Jack', 'Queen', 'King', 'Ace']\n",
    "    deck = [(rank, suit) for suit in suits for rank in ranks]\n",
    "    random.shuffle(deck)\n",
    "    return deck\n",
    "\n",
    "def card_game():\n",
    "    deck = create_deck()\n",
    "    points = 0\n",
    "\n",
    "    current_card = deck.pop(0)  # Get the first card\n",
    "    print(f\"The first card is: {current_card[0]} of {current_card[1]}\")\n",
    "\n",
    "    ranks = ['2', '3', '4', '5', '6', '7', '8', '9', '10', 'Jack', 'Queen', 'King', 'Ace']\n",
    "\n",
    "    while len(deck) > 0:\n",
    "        guess = input(\"Will the next card be higher or lower? (Type 'higher' or 'lower'): \").lower()\n",
    "        next_card = deck.pop(0)\n",
    "        print(f\"The next card is: {next_card[0]} of {next_card[1]}\")\n",
    "\n",
    "        # Compare the ranks of the cards\n",
    "        current_rank = ranks.index(current_card[0])\n",
    "        next_rank = ranks.index(next_card[0])\n",
    "\n",
    "        if next_rank == current_rank:\n",
    "            print(\"Same value, you lose.\")\n",
    "            points -= 15\n",
    "        elif (guess == 'higher' and next_rank > current_rank) or (guess == 'lower' and next_rank < current_rank):\n",
    "            print(\"Correct!\")\n",
    "            points += 20\n",
    "        else:\n",
    "            print(\"Incorrect.\")\n",
    "            points -= 15\n",
    "\n",
    "        print(f\"Your current points: {points}\\n\")\n",
    "        current_card = next_card\n",
    "\n",
    "\n",
    "card_game()\n"
   ]
  },
  {
   "cell_type": "markdown",
   "metadata": {
    "colab": {
     "base_uri": "https://localhost:8080/"
    },
    "id": "DZ8N2EYqgBT3",
    "outputId": "f158eb29-7808-44f8-eba1-6dca863dc3b9"
   },
   "source": [
    "# Q5. Create an empty dictionary called Car_0 . Then fill the dictionary with Keys : color , speed\n",
    "# X_position and Y_position.\n",
    "# car_0 = {'x_position': 10, 'y_position': 72, 'speed': 'medium'} .\n",
    "# a) If the speed is slow the coordinates of the X_pos get incremented by 2.\n",
    "# b) If the speed is Medium the coordinates of the X_pos gets incremented by 9\n",
    "# c) Now if the speed is Fast the coordinates of the X_pos gets incremented by 22.\n",
    "# Print the modified dictionary."
   ]
  },
  {
   "cell_type": "code",
   "execution_count": 10,
   "metadata": {},
   "outputs": [
    {
     "name": "stdout",
     "output_type": "stream",
     "text": [
      "{'color': 'red', 'speed': 'medium', 'X_position': 19, 'Y_position': 72}\n"
     ]
    }
   ],
   "source": [
    "Car_0 = {}\n",
    "\n",
    "Car_0['color'] = 'red' \n",
    "Car_0['speed'] = 'medium'\n",
    "Car_0['X_position'] = 10\n",
    "Car_0['Y_position'] = 72\n",
    "\n",
    "\n",
    "if Car_0['speed'] == 'slow':\n",
    "    Car_0['X_position'] += 2\n",
    "elif Car_0['speed'] == 'medium':\n",
    "    Car_0['X_position'] += 9\n",
    "elif Car_0['speed'] == 'fast':\n",
    "    Car_0['X_position'] += 22\n",
    "\n",
    "print(Car_0)\n",
    "\n"
   ]
  },
  {
   "cell_type": "markdown",
   "metadata": {
    "id": "9M_vE5lFgBWL"
   },
   "source": [
    "# Q6. Show a basic implementation of abstraction in python using the abstract classes.\n",
    "# 1. Create an abstract class in python.\n",
    "# 2. Implement abstraction with the other classes and base class as abstract class"
   ]
  },
  {
   "cell_type": "code",
   "execution_count": 11,
   "metadata": {
    "colab": {
     "base_uri": "https://localhost:8080/"
    },
    "id": "sPR_GOHFgBYj",
    "outputId": "44dbf492-3e91-4e52-e654-8945025a1502"
   },
   "outputs": [
    {
     "name": "stdout",
     "output_type": "stream",
     "text": [
      "Area of the square: 16\n",
      "Area of the circle: 78.5\n"
     ]
    }
   ],
   "source": [
    "from abc import ABC, abstractmethod\n",
    "\n",
    "class Shape(ABC):\n",
    "    @abstractmethod\n",
    "    def calculate_area(self):\n",
    "        pass\n",
    "\n",
    "class Square(Shape):\n",
    "    def __init__(self, side_length):\n",
    "        self.side_length = side_length\n",
    "\n",
    "    def calculate_area(self):\n",
    "        return self.side_length * self.side_length\n",
    "\n",
    "class Circle(Shape):\n",
    "    def __init__(self, radius):\n",
    "        self.radius = radius\n",
    "\n",
    "    def calculate_area(self):\n",
    "        return 3.14 * self.radius * self.radius\n",
    "\n",
    "\n",
    "square = Square(4)\n",
    "circle = Circle(5)\n",
    "\n",
    "print(\"Area of the square:\", square.calculate_area())  # Output the area of the square\n",
    "print(\"Area of the circle:\", circle.calculate_area())  # Output the area of the circle\n"
   ]
  },
  {
   "cell_type": "markdown",
   "metadata": {
    "colab": {
     "base_uri": "https://localhost:8080/"
    },
    "id": "S9EejEfum5dR",
    "outputId": "0dc829e0-f300-434d-83cd-07b14ebc94fc"
   },
   "source": [
    "# Q7. Create a program in python to demonstrate Polymorphism.\n",
    "# 1. Make use of private and protected members using python name mangling techniques.\n"
   ]
  },
  {
   "cell_type": "code",
   "execution_count": 12,
   "metadata": {},
   "outputs": [
    {
     "name": "stdout",
     "output_type": "stream",
     "text": [
      "I am a Shape named Circle 1\n",
      "My area is 78.5 square units\n",
      "I am a Shape named Square 1\n",
      "My area is 16 square units\n"
     ]
    }
   ],
   "source": [
    "class Shape:\n",
    "    def __init__(self, name):\n",
    "        self.__name = name\n",
    "        self._type = \"Shape\" \n",
    "\n",
    "    def get_type(self):\n",
    "        return self._type\n",
    "\n",
    "    def _calculate_area(self):\n",
    "        pass  # Abstract method\n",
    "\n",
    "    def show_details(self):\n",
    "        print(f\"I am a {self.get_type()} named {self.__name}\")\n",
    "\n",
    "class Circle(Shape):\n",
    "    def __init__(self, name, radius):\n",
    "        super().__init__(name)\n",
    "        self.__radius = radius  \n",
    "\n",
    "    def _calculate_area(self):\n",
    "        return 3.14 * self.__radius * self.__radius\n",
    "\n",
    "    def show_details(self):\n",
    "        super().show_details()\n",
    "        print(f\"My area is {self._calculate_area()} square units\")\n",
    "\n",
    "class Square(Shape):\n",
    "    def __init__(self, name, side_length):\n",
    "        super().__init__(name)\n",
    "        self._side_length = side_length  \n",
    "\n",
    "    def _calculate_area(self):\n",
    "        return self._side_length * self._side_length\n",
    "\n",
    "    def show_details(self):\n",
    "        super().show_details()\n",
    "        print(f\"My area is {self._calculate_area()} square units\")\n",
    "\n",
    "circle = Circle(\"Circle 1\", 5)\n",
    "square = Square(\"Square 1\", 4)\n",
    "\n",
    "circle.show_details() \n",
    "square.show_details() \n"
   ]
  },
  {
   "cell_type": "markdown",
   "metadata": {
    "colab": {
     "base_uri": "https://localhost:8080/"
    },
    "id": "KUjLWQQym5fy",
    "outputId": "ae3b33a6-f6ea-4eab-bd3a-f935bd8a33ff"
   },
   "source": [
    "# Q8. Given a list of 50 natural numbers from 1-50. Create a function that will take every element\n",
    "# from the list and return the square of each element. Use the python map and filter methods to\n",
    "# implement the function on the given list.\n"
   ]
  },
  {
   "cell_type": "code",
   "execution_count": 14,
   "metadata": {},
   "outputs": [
    {
     "name": "stdout",
     "output_type": "stream",
     "text": [
      "Original numbers: [1, 2, 3, 4, 5, 6, 7, 8, 9, 10, 11, 12, 13, 14, 15, 16, 17, 18, 19, 20, 21, 22, 23, 24, 25, 26, 27, 28, 29, 30, 31, 32, 33, 34, 35, 36, 37, 38, 39, 40, 41, 42, 43, 44, 45, 46, 47, 48, 49, 50]\n",
      "Squared numbers: [1, 4, 9, 16, 25, 36, 49, 64, 81, 100, 121, 144, 169, 196, 225, 256, 289, 324, 361, 400, 441, 484, 529, 576, 625, 676, 729, 784, 841, 900, 961, 1024, 1089, 1156, 1225, 1296, 1369, 1444, 1521, 1600, 1681, 1764, 1849, 1936, 2025, 2116, 2209, 2304, 2401, 2500]\n"
     ]
    }
   ],
   "source": [
    "def square_number(n):\n",
    "    return n ** 2\n",
    "\n",
    "numbers = list(range(1, 51))\n",
    "\n",
    "squared_numbers = list(map(square_number, numbers))\n",
    "\n",
    "print(\"Original numbers:\", numbers)\n",
    "print(\"Squared numbers:\", squared_numbers)"
   ]
  },
  {
   "cell_type": "markdown",
   "metadata": {
    "colab": {
     "base_uri": "https://localhost:8080/"
    },
    "id": "s8UtECwIm5ij",
    "outputId": "43c8ed62-765e-4716-98cd-b6ca41bdbb33"
   },
   "source": [
    "# Q9. Create a class, Triangle. Its init() method should take self, angle1, angle2, and angle3 as arguments."
   ]
  },
  {
   "cell_type": "code",
   "execution_count": 15,
   "metadata": {},
   "outputs": [
    {
     "name": "stdout",
     "output_type": "stream",
     "text": [
      "Angles of the triangle: 60 60 60\n"
     ]
    }
   ],
   "source": [
    "class Triangle:\n",
    "    def __init__(self, angle1, angle2, angle3):\n",
    "        self.angle1 = angle1\n",
    "        self.angle2 = angle2\n",
    "        self.angle3 = angle3\n",
    "\n",
    "\n",
    "triangle = Triangle(60, 60, 60) \n",
    "print(\"Angles of the triangle:\", triangle.angle1, triangle.angle2, triangle.angle3)\n",
    "\n"
   ]
  },
  {
   "cell_type": "markdown",
   "metadata": {
    "colab": {
     "base_uri": "https://localhost:8080/"
    },
    "id": "xy0Pf8D-m5k8",
    "outputId": "58df3755-af8d-4abc-d5ea-d4e82ef49e0b"
   },
   "source": [
    "# Q10. Create a class variable named number_of_sides and set it equal to 3.\n"
   ]
  },
  {
   "cell_type": "code",
   "execution_count": 17,
   "metadata": {},
   "outputs": [
    {
     "name": "stdout",
     "output_type": "stream",
     "text": [
      "Number of sides in the Triangle: 3\n"
     ]
    }
   ],
   "source": [
    "class Triangle:\n",
    "    number_of_sides = 3 \n",
    "\n",
    "    def __init__(self, angle1, angle2, angle3):\n",
    "        self.angle1 = angle1\n",
    "        self.angle2 = angle2\n",
    "        self.angle3 = angle3\n",
    "\n",
    "print(\"Number of sides in the Triangle:\", Triangle.number_of_sides)"
   ]
  },
  {
   "cell_type": "markdown",
   "metadata": {
    "id": "UHHDdssUm5nZ"
   },
   "source": [
    "# Q11. Create a method named check_angles. The sum of a triangle's three angles should return\n",
    "# True if the sum is equal to 180, and False otherwise. The method should print whether the\n",
    "# angles belong to a triangle or not.\n",
    "# 11.1 Write methods to verify if the triangle is an acute triangle or obtuse triangle.\n",
    "# 11.2 Create an instance of the triangle class and call all the defined methods.\n",
    "# 11.3 Create three child classes of triangle class - isosceles_triangle, right_triangle and\n",
    "# equilateral_triangle.\n",
    "# 11.4 Define methods which check for their properties.\n"
   ]
  },
  {
   "cell_type": "code",
   "execution_count": 18,
   "metadata": {
    "colab": {
     "base_uri": "https://localhost:8080/"
    },
    "id": "DuAZlSM6m5qA",
    "outputId": "8c9eab34-7fc6-40b5-bf69-e99b68b2808f"
   },
   "outputs": [
    {
     "name": "stdout",
     "output_type": "stream",
     "text": [
      "The angles belong to a triangle.\n"
     ]
    }
   ],
   "source": [
    "class Triangle:\n",
    "    number_of_sides = 3 \n",
    "\n",
    "    def __init__(self, angle1, angle2, angle3):\n",
    "        self.angle1 = angle1\n",
    "        self.angle2 = angle2\n",
    "        self.angle3 = angle3\n",
    "\n",
    "    def check_angles(self):\n",
    "        if self.angle1 + self.angle2 + self.angle3 == 180:\n",
    "            print(\"The angles belong to a triangle.\")\n",
    "            return True\n",
    "        else:\n",
    "            print(\"The angles do not form a valid triangle.\")\n",
    "            return False\n",
    "\n",
    "triangle = Triangle(60, 60, 60)  \n",
    "result = triangle.check_angles() \n"
   ]
  },
  {
   "cell_type": "code",
   "execution_count": 19,
   "metadata": {
    "colab": {
     "base_uri": "https://localhost:8080/"
    },
    "id": "HBzp_6o-m5sX",
    "outputId": "270f4adc-11f5-443d-ae18-416335200f5c"
   },
   "outputs": [
    {
     "name": "stdout",
     "output_type": "stream",
     "text": [
      "The angles belong to a triangle.\n",
      "The triangle is an acute triangle.\n",
      "The triangle is not an obtuse triangle.\n",
      "The triangle is an isosceles triangle.\n",
      "The triangle is a right triangle.\n",
      "The triangle is an equilateral triangle.\n"
     ]
    },
    {
     "data": {
      "text/plain": [
       "True"
      ]
     },
     "execution_count": 19,
     "metadata": {},
     "output_type": "execute_result"
    }
   ],
   "source": [
    "class Triangle:\n",
    "    number_of_sides = 3 \n",
    "\n",
    "    def __init__(self, angle1, angle2, angle3):\n",
    "        self.angle1 = angle1\n",
    "        self.angle2 = angle2\n",
    "        self.angle3 = angle3\n",
    "\n",
    "    def check_angles(self):\n",
    "        if self.angle1 + self.angle2 + self.angle3 == 180:\n",
    "            print(\"The angles belong to a triangle.\")\n",
    "            return True\n",
    "        else:\n",
    "            print(\"The angles do not form a valid triangle.\")\n",
    "            return False\n",
    "\n",
    "    def is_acute_triangle(self):\n",
    "        angles = [self.angle1, self.angle2, self.angle3]\n",
    "        if all(angle < 90 for angle in angles):\n",
    "            print(\"The triangle is an acute triangle.\")\n",
    "            return True\n",
    "        else:\n",
    "            print(\"The triangle is not an acute triangle.\")\n",
    "            return False\n",
    "\n",
    "    def is_obtuse_triangle(self):\n",
    "        angles = [self.angle1, self.angle2, self.angle3]\n",
    "        if any(angle > 90 for angle in angles):\n",
    "            print(\"The triangle is an obtuse triangle.\")\n",
    "            return True\n",
    "        else:\n",
    "            print(\"The triangle is not an obtuse triangle.\")\n",
    "            return False\n",
    "\n",
    "class IsoscelesTriangle(Triangle):\n",
    "    def is_isosceles(self):\n",
    "        angles = [self.angle1, self.angle2, self.angle3]\n",
    "        if len(set(angles)) == 2:\n",
    "            print(\"The triangle is an isosceles triangle.\")\n",
    "            return True\n",
    "        else:\n",
    "            print(\"The triangle is not an isosceles triangle.\")\n",
    "            return False\n",
    "\n",
    "class RightTriangle(Triangle):\n",
    "    def is_right_triangle(self):\n",
    "        angles = [self.angle1, self.angle2, self.angle3]\n",
    "        if 90 in angles:\n",
    "            print(\"The triangle is a right triangle.\")\n",
    "            return True\n",
    "        else:\n",
    "            print(\"The triangle is not a right triangle.\")\n",
    "            return False\n",
    "\n",
    "class EquilateralTriangle(Triangle):\n",
    "    def is_equilateral(self):\n",
    "        angles = [self.angle1, self.angle2, self.angle3]\n",
    "        if len(set(angles)) == 1:\n",
    "            print(\"The triangle is an equilateral triangle.\")\n",
    "            return True\n",
    "        else:\n",
    "            print(\"The triangle is not an equilateral triangle.\")\n",
    "            return False\n",
    "\n",
    "triangle = Triangle(60, 60, 60)\n",
    "triangle.check_angles()\n",
    "triangle.is_acute_triangle()\n",
    "triangle.is_obtuse_triangle()\n",
    "\n",
    "isosceles_triangle = IsoscelesTriangle(50, 50, 80)\n",
    "isosceles_triangle.is_isosceles()\n",
    "\n",
    "right_triangle = RightTriangle(90, 45, 45)\n",
    "right_triangle.is_right_triangle()\n",
    "\n",
    "equilateral_triangle = EquilateralTriangle(60, 60, 60)\n",
    "equilateral_triangle.is_equilateral()\n"
   ]
  },
  {
   "cell_type": "markdown",
   "metadata": {
    "colab": {
     "base_uri": "https://localhost:8080/"
    },
    "id": "rz0ymWlNm5uz",
    "outputId": "38cd172a-88b9-436b-96e0-7dfc2cded36a"
   },
   "source": [
    "# Q12. Create a class isosceles_right_triangle which inherits from isosceles_triangle and\n",
    "# right_triangle.\n",
    "# 12.1 Define methods which check for their properties.\n",
    "\n"
   ]
  },
  {
   "cell_type": "code",
   "execution_count": 20,
   "metadata": {
    "id": "ZMcrps1rm5xb"
   },
   "outputs": [
    {
     "name": "stdout",
     "output_type": "stream",
     "text": [
      "The triangle is an isosceles triangle.\n",
      "The triangle is a right triangle.\n",
      "The triangle is an Isosceles Right triangle.\n"
     ]
    },
    {
     "data": {
      "text/plain": [
       "True"
      ]
     },
     "execution_count": 20,
     "metadata": {},
     "output_type": "execute_result"
    }
   ],
   "source": [
    "class IsoscelesTriangle:\n",
    "    def __init__(self, angle1, angle2, angle3):\n",
    "        self.angle1 = angle1\n",
    "        self.angle2 = angle2\n",
    "        self.angle3 = angle3\n",
    "\n",
    "    def is_isosceles(self):\n",
    "        angles = [self.angle1, self.angle2, self.angle3]\n",
    "        if len(set(angles)) == 2:\n",
    "            print(\"The triangle is an isosceles triangle.\")\n",
    "            return True\n",
    "        else:\n",
    "            print(\"The triangle is not an isosceles triangle.\")\n",
    "            return False\n",
    "\n",
    "class RightTriangle:\n",
    "    def __init__(self, angle1, angle2, angle3):\n",
    "        self.angle1 = angle1\n",
    "        self.angle2 = angle2\n",
    "        self.angle3 = angle3\n",
    "\n",
    "    def is_right_triangle(self):\n",
    "        angles = [self.angle1, self.angle2, self.angle3]\n",
    "        if 90 in angles:\n",
    "            print(\"The triangle is a right triangle.\")\n",
    "            return True\n",
    "        else:\n",
    "            print(\"The triangle is not a right triangle.\")\n",
    "            return False\n",
    "\n",
    "class IsoscelesRightTriangle(IsoscelesTriangle, RightTriangle):\n",
    "    def __init__(self, angle1, angle2, angle3):\n",
    "        super().__init__(angle1, angle2, angle3)\n",
    "        RightTriangle.__init__(self, angle1, angle2, angle3)\n",
    "\n",
    "    def is_isosceles_right_triangle(self):\n",
    "        is_iso = self.is_isosceles()\n",
    "        is_right = self.is_right_triangle()\n",
    "        if is_iso and is_right:\n",
    "            print(\"The triangle is an Isosceles Right triangle.\")\n",
    "            return True\n",
    "        else:\n",
    "            print(\"The triangle is not an Isosceles Right triangle.\")\n",
    "            return False\n",
    "\n",
    "# Create an instance of IsoscelesRightTriangle and call the method to check its properties\n",
    "isosceles_right_triangle = IsoscelesRightTriangle(45, 45, 90)\n",
    "isosceles_right_triangle.is_isosceles_right_triangle()\n"
   ]
  },
  {
   "cell_type": "code",
   "execution_count": null,
   "metadata": {
    "id": "89_xUnbCm50F"
   },
   "outputs": [],
   "source": []
  },
  {
   "cell_type": "code",
   "execution_count": null,
   "metadata": {
    "id": "FZIVxr3mgBbG"
   },
   "outputs": [],
   "source": []
  },
  {
   "cell_type": "code",
   "execution_count": null,
   "metadata": {
    "id": "7xS5FwF5gBdl"
   },
   "outputs": [],
   "source": []
  },
  {
   "cell_type": "code",
   "execution_count": null,
   "metadata": {
    "id": "LJapRz5fgBf7"
   },
   "outputs": [],
   "source": []
  },
  {
   "cell_type": "markdown",
   "metadata": {
    "id": "wZwhWxxjfrsc"
   },
   "source": []
  }
 ],
 "metadata": {
  "colab": {
   "provenance": []
  },
  "kernelspec": {
   "display_name": "Python 3 (ipykernel)",
   "language": "python",
   "name": "python3"
  },
  "language_info": {
   "codemirror_mode": {
    "name": "ipython",
    "version": 3
   },
   "file_extension": ".py",
   "mimetype": "text/x-python",
   "name": "python",
   "nbconvert_exporter": "python",
   "pygments_lexer": "ipython3",
   "version": "3.11.4"
  }
 },
 "nbformat": 4,
 "nbformat_minor": 1
}
